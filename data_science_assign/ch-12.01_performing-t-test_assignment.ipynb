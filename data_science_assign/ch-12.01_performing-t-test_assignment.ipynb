{
 "cells": [
  {
   "cell_type": "markdown",
   "metadata": {},
   "source": [
    "\n",
    "For this assignment, you’ll use a real-life dataset of housing prices as published in the [*Journal of Applied Econometrics*](http://qed.econ.queensu.ca/jae/1996-v11.6/anglin-gencay/). Download the data [here](https://cwru.box.com/shared/static/eib5c2zffjol8rfal5bt4d4fgaxz7fat.csv).\n",
    "\n",
    "Explore the following questions. Include a hypothesis, test assumptions and provide valid findings from the data. \n",
    "\n",
    "\n",
    "1. Do homes with air conditioning have a higher sales price than homes without air conditioning?\n",
    "2. Do homes with a full basement have a higher sales price than homes without a full basement? \n",
    "\n",
    "As you are conducting the analysis, consider what other variables may be accounting for any significant differences you find. "
   ]
  },
  {
   "cell_type": "code",
   "execution_count": 9,
   "metadata": {},
   "outputs": [
    {
     "name": "stdout",
     "output_type": "stream",
     "text": [
      "<class 'pandas.core.frame.DataFrame'>\n",
      "RangeIndex: 546 entries, 0 to 545\n",
      "Data columns (total 12 columns):\n",
      " #   Column    Non-Null Count  Dtype  \n",
      "---  ------    --------------  -----  \n",
      " 0   price     546 non-null    float64\n",
      " 1   lotsize   546 non-null    int64  \n",
      " 2   bedrooms  546 non-null    int64  \n",
      " 3   bathrms   546 non-null    int64  \n",
      " 4   stories   546 non-null    int64  \n",
      " 5   driveway  546 non-null    object \n",
      " 6   recroom   546 non-null    object \n",
      " 7   fullbase  546 non-null    object \n",
      " 8   gashw     546 non-null    object \n",
      " 9   airco     546 non-null    object \n",
      " 10  garagepl  546 non-null    int64  \n",
      " 11  prefarea  546 non-null    object \n",
      "dtypes: float64(1), int64(5), object(6)\n",
      "memory usage: 51.3+ KB\n"
     ]
    },
    {
     "data": {
      "text/html": [
       "<div>\n",
       "<style scoped>\n",
       "    .dataframe tbody tr th:only-of-type {\n",
       "        vertical-align: middle;\n",
       "    }\n",
       "\n",
       "    .dataframe tbody tr th {\n",
       "        vertical-align: top;\n",
       "    }\n",
       "\n",
       "    .dataframe thead th {\n",
       "        text-align: right;\n",
       "    }\n",
       "</style>\n",
       "<table border=\"1\" class=\"dataframe\">\n",
       "  <thead>\n",
       "    <tr style=\"text-align: right;\">\n",
       "      <th></th>\n",
       "      <th>price</th>\n",
       "      <th>lotsize</th>\n",
       "      <th>bedrooms</th>\n",
       "      <th>bathrms</th>\n",
       "      <th>stories</th>\n",
       "      <th>driveway</th>\n",
       "      <th>recroom</th>\n",
       "      <th>fullbase</th>\n",
       "      <th>gashw</th>\n",
       "      <th>airco</th>\n",
       "      <th>garagepl</th>\n",
       "      <th>prefarea</th>\n",
       "    </tr>\n",
       "  </thead>\n",
       "  <tbody>\n",
       "    <tr>\n",
       "      <th>0</th>\n",
       "      <td>42000.0</td>\n",
       "      <td>5850</td>\n",
       "      <td>3</td>\n",
       "      <td>1</td>\n",
       "      <td>2</td>\n",
       "      <td>yes</td>\n",
       "      <td>no</td>\n",
       "      <td>yes</td>\n",
       "      <td>no</td>\n",
       "      <td>no</td>\n",
       "      <td>1</td>\n",
       "      <td>no</td>\n",
       "    </tr>\n",
       "    <tr>\n",
       "      <th>1</th>\n",
       "      <td>66000.0</td>\n",
       "      <td>3880</td>\n",
       "      <td>3</td>\n",
       "      <td>2</td>\n",
       "      <td>2</td>\n",
       "      <td>yes</td>\n",
       "      <td>no</td>\n",
       "      <td>yes</td>\n",
       "      <td>no</td>\n",
       "      <td>no</td>\n",
       "      <td>2</td>\n",
       "      <td>no</td>\n",
       "    </tr>\n",
       "    <tr>\n",
       "      <th>2</th>\n",
       "      <td>83800.0</td>\n",
       "      <td>4800</td>\n",
       "      <td>3</td>\n",
       "      <td>1</td>\n",
       "      <td>1</td>\n",
       "      <td>yes</td>\n",
       "      <td>yes</td>\n",
       "      <td>yes</td>\n",
       "      <td>no</td>\n",
       "      <td>no</td>\n",
       "      <td>0</td>\n",
       "      <td>no</td>\n",
       "    </tr>\n",
       "    <tr>\n",
       "      <th>3</th>\n",
       "      <td>45000.0</td>\n",
       "      <td>3986</td>\n",
       "      <td>2</td>\n",
       "      <td>2</td>\n",
       "      <td>1</td>\n",
       "      <td>no</td>\n",
       "      <td>yes</td>\n",
       "      <td>yes</td>\n",
       "      <td>no</td>\n",
       "      <td>no</td>\n",
       "      <td>1</td>\n",
       "      <td>no</td>\n",
       "    </tr>\n",
       "    <tr>\n",
       "      <th>4</th>\n",
       "      <td>65900.0</td>\n",
       "      <td>4510</td>\n",
       "      <td>4</td>\n",
       "      <td>2</td>\n",
       "      <td>2</td>\n",
       "      <td>yes</td>\n",
       "      <td>no</td>\n",
       "      <td>yes</td>\n",
       "      <td>no</td>\n",
       "      <td>no</td>\n",
       "      <td>0</td>\n",
       "      <td>no</td>\n",
       "    </tr>\n",
       "  </tbody>\n",
       "</table>\n",
       "</div>"
      ],
      "text/plain": [
       "     price  lotsize  bedrooms  bathrms  stories driveway recroom fullbase  \\\n",
       "0  42000.0     5850         3        1        2      yes      no      yes   \n",
       "1  66000.0     3880         3        2        2      yes      no      yes   \n",
       "2  83800.0     4800         3        1        1      yes     yes      yes   \n",
       "3  45000.0     3986         2        2        1       no     yes      yes   \n",
       "4  65900.0     4510         4        2        2      yes      no      yes   \n",
       "\n",
       "  gashw airco  garagepl prefarea  \n",
       "0    no    no         1       no  \n",
       "1    no    no         2       no  \n",
       "2    no    no         0       no  \n",
       "3    no    no         1       no  \n",
       "4    no    no         0       no  "
      ]
     },
     "execution_count": 9,
     "metadata": {},
     "output_type": "execute_result"
    }
   ],
   "source": [
    "# set up environment\n",
    "\n",
    "import math\n",
    "import pandas as pd\n",
    "import numpy as np\n",
    "from scipy import stats\n",
    "import matplotlib.pyplot as plt\n",
    "\n",
    "\n",
    "\n",
    "homeprices = pd.read_csv(\"https://tf-assets-prod.s3.amazonaws.com/tf-curric/data-science/homeprices.csv\")\n",
    "\n",
    "# Do homes with air conditioning have a higher sales price than homes without air conditioning?Get to know the data a bit\n",
    "homeprices.info()\n",
    "homeprices.head()"
   ]
  },
  {
   "cell_type": "code",
   "execution_count": 6,
   "metadata": {},
   "outputs": [
    {
     "data": {
      "image/png": "[encoded data removed]",
      "text/plain": [
       "<Figure size 432x288 with 1 Axes>"
      ]
     },
     "metadata": {
      "needs_background": "light"
     },
     "output_type": "display_data"
    }
   ],
   "source": [
    "plt.hist(homeprices['price'], alpha = .5, label = \"homeprices\")\n",
    "plt.show()"
   ]
  },
  {
   "cell_type": "markdown",
   "metadata": {},
   "source": [
    "# 1. Do homes with air conditioning have a higher sales price than homes without air conditioning?\n",
    "\n",
    "First, we split our data set into two groups: homes with A/C and homes w/o A/C"
   ]
  },
  {
   "cell_type": "code",
   "execution_count": 2,
   "metadata": {},
   "outputs": [
    {
     "name": "stdout",
     "output_type": "stream",
     "text": [
      "<class 'pandas.core.frame.DataFrame'>\n",
      "Int64Index: 173 entries, 373 to 545\n",
      "Data columns (total 12 columns):\n",
      " #   Column    Non-Null Count  Dtype  \n",
      "---  ------    --------------  -----  \n",
      " 0   price     173 non-null    float64\n",
      " 1   lotsize   173 non-null    int64  \n",
      " 2   bedrooms  173 non-null    int64  \n",
      " 3   bathrms   173 non-null    int64  \n",
      " 4   stories   173 non-null    int64  \n",
      " 5   driveway  173 non-null    object \n",
      " 6   recroom   173 non-null    object \n",
      " 7   fullbase  173 non-null    object \n",
      " 8   gashw     173 non-null    object \n",
      " 9   airco     173 non-null    object \n",
      " 10  garagepl  173 non-null    int64  \n",
      " 11  prefarea  173 non-null    object \n",
      "dtypes: float64(1), int64(5), object(6)\n",
      "memory usage: 17.6+ KB\n",
      "<class 'pandas.core.frame.DataFrame'>\n",
      "Int64Index: 373 entries, 0 to 372\n",
      "Data columns (total 12 columns):\n",
      " #   Column    Non-Null Count  Dtype  \n",
      "---  ------    --------------  -----  \n",
      " 0   price     373 non-null    float64\n",
      " 1   lotsize   373 non-null    int64  \n",
      " 2   bedrooms  373 non-null    int64  \n",
      " 3   bathrms   373 non-null    int64  \n",
      " 4   stories   373 non-null    int64  \n",
      " 5   driveway  373 non-null    object \n",
      " 6   recroom   373 non-null    object \n",
      " 7   fullbase  373 non-null    object \n",
      " 8   gashw     373 non-null    object \n",
      " 9   airco     373 non-null    object \n",
      " 10  garagepl  373 non-null    int64  \n",
      " 11  prefarea  373 non-null    object \n",
      "dtypes: float64(1), int64(5), object(6)\n",
      "memory usage: 37.9+ KB\n"
     ]
    }
   ],
   "source": [
    "# split up our dataset\n",
    "ac_yes = homeprices[homeprices['airco'] == 'yes']\n",
    "ac_yes.info()\n",
    "\n",
    "ac_no = homeprices[homeprices['airco'] == 'no']\n",
    "ac_no.info()"
   ]
  },
  {
   "cell_type": "markdown",
   "metadata": {},
   "source": [
    "Lest review the distribution of houses w/ and w/o ac"
   ]
  },
  {
   "cell_type": "code",
   "execution_count": 5,
   "metadata": {},
   "outputs": [
    {
     "data": {
      "image/png": "[encoded data removed]",
      "text/plain": [
       "<Figure size 432x288 with 1 Axes>"
      ]
     },
     "metadata": {
      "needs_background": "light"
     },
     "output_type": "display_data"
    },
    {
     "name": "stdout",
     "output_type": "stream",
     "text": [
      "The descriptive statistics for where a/c yes:\n",
      "DescribeResult(nobs=173, minmax=(31900.0, 190000.0), mean=85880.58959537573, variance=810167352.2317516, skewness=0.8558523643779228, kurtosis=0.9609338749117713)\n",
      "\n",
      "\n",
      "The descriptive statistics for where a/c no:\n",
      "DescribeResult(nobs=373, minmax=(25000.0, 175000.0), mean=59884.85254691689, variance=455341800.98626363, skewness=1.4196100209360347, kurtosis=3.448225770991252)\n"
     ]
    }
   ],
   "source": [
    "# a/c\n",
    "\n",
    "plt.hist(ac_yes['price'], alpha = .5, label = \"a/c yes\")\n",
    "plt.hist(ac_no['price'], alpha = .5, label = \"a/c no\")\n",
    "plt.legend(loc=\"upper right\")\n",
    "plt.show()\n",
    "\n",
    "print('The descriptive statistics for where a/c yes:')\n",
    "print(stats.describe(ac_yes['price']))\n",
    "\n",
    "print('\\n')\n",
    "\n",
    "print('The descriptive statistics for where a/c no:')\n",
    "print(stats.describe(ac_no['price']))"
   ]
  },
  {
   "cell_type": "markdown",
   "metadata": {},
   "source": [
    "# 2. Do homes with a full basement have a higher sales price than homes without a full basement? \n"
   ]
  },
  {
   "cell_type": "code",
   "execution_count": 11,
   "metadata": {},
   "outputs": [
    {
     "name": "stdout",
     "output_type": "stream",
     "text": [
      "<class 'pandas.core.frame.DataFrame'>\n",
      "Int64Index: 191 entries, 0 to 438\n",
      "Data columns (total 12 columns):\n",
      " #   Column    Non-Null Count  Dtype  \n",
      "---  ------    --------------  -----  \n",
      " 0   price     191 non-null    float64\n",
      " 1   lotsize   191 non-null    int64  \n",
      " 2   bedrooms  191 non-null    int64  \n",
      " 3   bathrms   191 non-null    int64  \n",
      " 4   stories   191 non-null    int64  \n",
      " 5   driveway  191 non-null    object \n",
      " 6   recroom   191 non-null    object \n",
      " 7   fullbase  191 non-null    object \n",
      " 8   gashw     191 non-null    object \n",
      " 9   airco     191 non-null    object \n",
      " 10  garagepl  191 non-null    int64  \n",
      " 11  prefarea  191 non-null    object \n",
      "dtypes: float64(1), int64(5), object(6)\n",
      "memory usage: 19.4+ KB\n",
      "<class 'pandas.core.frame.DataFrame'>\n",
      "Int64Index: 355 entries, 125 to 545\n",
      "Data columns (total 12 columns):\n",
      " #   Column    Non-Null Count  Dtype  \n",
      "---  ------    --------------  -----  \n",
      " 0   price     355 non-null    float64\n",
      " 1   lotsize   355 non-null    int64  \n",
      " 2   bedrooms  355 non-null    int64  \n",
      " 3   bathrms   355 non-null    int64  \n",
      " 4   stories   355 non-null    int64  \n",
      " 5   driveway  355 non-null    object \n",
      " 6   recroom   355 non-null    object \n",
      " 7   fullbase  355 non-null    object \n",
      " 8   gashw     355 non-null    object \n",
      " 9   airco     355 non-null    object \n",
      " 10  garagepl  355 non-null    int64  \n",
      " 11  prefarea  355 non-null    object \n",
      "dtypes: float64(1), int64(5), object(6)\n",
      "memory usage: 36.1+ KB\n"
     ]
    }
   ],
   "source": [
    "# split up our dataset\n",
    "fullbase_yes = homeprices[homeprices['fullbase'] == 'yes']\n",
    "fullbase_yes.info()\n",
    "\n",
    "fullbase_no = homeprices[homeprices['fullbase'] == 'no']\n",
    "fullbase_no.info()"
   ]
  },
  {
   "cell_type": "code",
   "execution_count": 12,
   "metadata": {},
   "outputs": [
    {
     "data": {
      "image/png": "[encoded data removed]",
      "text/plain": [
       "<Figure size 432x288 with 1 Axes>"
      ]
     },
     "metadata": {
      "needs_background": "light"
     },
     "output_type": "display_data"
    },
    {
     "name": "stdout",
     "output_type": "stream",
     "text": [
      "The descriptive statistics for where fullbasement is yes:\n",
      "DescribeResult(nobs=191, minmax=(26000.0, 175000.0), mean=74894.50261780104, variance=687483535.4092036, skewness=1.299439350765169, kurtosis=2.200944427832982)\n",
      "\n",
      "\n",
      "The descriptive statistics for where fullbasement is no:\n",
      "DescribeResult(nobs=355, minmax=(25000.0, 190000.0), mean=64477.58309859155, variance=690693014.1816344, skewness=1.2539001276811907, kurtosis=1.9898502593432044)\n"
     ]
    }
   ],
   "source": [
    "# fullbasement is\n",
    "\n",
    "plt.hist(fullbase_yes['price'], alpha = .5, label = \"fullbasement is yes\")\n",
    "plt.hist(fullbase_no['price'], alpha = .5, label = \"fullbasement is no\")\n",
    "plt.legend(loc=\"upper right\")\n",
    "plt.show()\n",
    "\n",
    "print('The descriptive statistics for where fullbasement is yes:')\n",
    "print(stats.describe(fullbase_yes['price']))\n",
    "\n",
    "print('\\n')\n",
    "\n",
    "print('The descriptive statistics for where fullbasement is no:')\n",
    "print(stats.describe(fullbase_no['price']))"
   ]
  },
  {
   "cell_type": "code",
   "execution_count": 13,
   "metadata": {},
   "outputs": [
    {
     "data": {
      "text/plain": [
       "Ttest_indResult(statistic=4.420628512286621, pvalue=1.1885626562866786e-05)"
      ]
     },
     "execution_count": 13,
     "metadata": {},
     "output_type": "execute_result"
    }
   ],
   "source": [
    "stats.ttest_ind(fullbase_yes['price'], fullbase_no['price'])"
   ]
  },
  {
   "cell_type": "code",
   "execution_count": 14,
   "metadata": {},
   "outputs": [
    {
     "data": {
      "text/plain": [
       "'The difference in means at the 95% confidence interval (two-tail) is between -15032.294775656886 and -5801.544262762097.'"
      ]
     },
     "execution_count": 14,
     "metadata": {},
     "output_type": "execute_result"
    }
   ],
   "source": [
    "def get_95_ci(array_1, array_2):\n",
    "    sample_1_n = array_1.shape[0]\n",
    "    sample_2_n = array_2.shape[0]\n",
    "    sample_1_mean = array_1.mean()\n",
    "    sample_2_mean = array_2.mean()\n",
    "    sample_1_var = array_1.var()\n",
    "    sample_2_var = array_2.var()\n",
    "    mean_difference = sample_2_mean - sample_1_mean\n",
    "    std_err_difference = math.sqrt((sample_1_var/sample_1_n)+(sample_2_var/sample_2_n))\n",
    "    margin_of_error = 1.96 * std_err_difference\n",
    "    ci_lower = mean_difference - margin_of_error\n",
    "    ci_upper = mean_difference + margin_of_error\n",
    "    return(\"The difference in means at the 95% confidence interval (two-tail) is between \"+str(ci_lower)+\" and \"+str(ci_upper)+\".\")\n",
    "\n",
    "get_95_ci(fullbase_yes['price'], fullbase_no['price'])"
   ]
  },
  {
   "cell_type": "code",
   "execution_count": 15,
   "metadata": {},
   "outputs": [
    {
     "data": {
      "text/plain": [
       "[[Text(0, 0, 'fullbase_yes'), Text(0, 0, 'fullbase_no')]]"
      ]
     },
     "execution_count": 15,
     "metadata": {},
     "output_type": "execute_result"
    },
    {
     "data": {
      "image/png": "[encoded data removed]",
      "text/plain": [
       "<Figure size 432x288 with 1 Axes>"
      ]
     },
     "metadata": {
      "needs_background": "light"
     },
     "output_type": "display_data"
    }
   ],
   "source": [
    "import seaborn as sns\n",
    "\n",
    "g = sns.pointplot(data=[fullbase_yes['price'], fullbase_no['price']], join=False)\n",
    "                        \n",
    "g.set(xticklabels = ['fullbase_yes', 'fullbase_no'])"
   ]
  }
 ],
 "metadata": {
  "kernelspec": {
   "display_name": "Python 3",
   "language": "python",
   "name": "python3"
  },
  "language_info": {
   "codemirror_mode": {
    "name": "ipython",
    "version": 3
   },
   "file_extension": ".py",
   "mimetype": "text/x-python",
   "name": "python",
   "nbconvert_exporter": "python",
   "pygments_lexer": "ipython3",
   "version": "3.8.2"
  }
 },
 "nbformat": 4,
 "nbformat_minor": 4
}
