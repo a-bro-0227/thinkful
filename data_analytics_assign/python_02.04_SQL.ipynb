{
 "cells": [
  {
   "cell_type": "code",
   "execution_count": 0,
   "metadata": {
    "colab": {},
    "colab_type": "code",
    "id": "-9clBinOklcL"
   },
   "outputs": [],
   "source": [
    "# Import the SQL ALchemy engine\n",
    "from sqlalchemy import create_engine"
   ]
  },
  {
   "cell_type": "code",
   "execution_count": 0,
   "metadata": {
    "colab": {},
    "colab_type": "code",
    "id": "kkPVPZpGkx0t"
   },
   "outputs": [],
   "source": [
    "# Database credentials - dvdrentals\n",
    "# We will be querying from this same database throughout\n",
    "# so just need to do this once.\n",
    "\n",
    "postgres_user = 'dsbc_student'\n",
    "postgres_pw = '7*.8G9QH21'\n",
    "postgres_host = '142.93.121.174'\n",
    "postgres_port = '5432'\n",
    "postgres_db = 'dvdrentals'\n",
    "\n",
    "# use the credentials to start a connection\n",
    "engine = create_engine('postgresql://{}:{}@{}:{}/{}'.format(\n",
    "    postgres_user, postgres_pw, postgres_host, postgres_port, postgres_db))"
   ]
  },
  {
   "cell_type": "code",
   "execution_count": 0,
   "metadata": {
    "colab": {
     "base_uri": "https://localhost:8080/",
     "height": 103
    },
    "colab_type": "code",
    "executionInfo": {
     "elapsed": 848,
     "status": "ok",
     "timestamp": 1559071476334,
     "user": {
      "displayName": "George Mount",
      "photoUrl": "https://lh5.googleusercontent.com/-7HHitIt9SRk/AAAAAAAAAAI/AAAAAAAAuAI/dX9-F1ge5z0/s64/photo.jpg",
      "userId": "01427523874165577846"
     },
     "user_tz": 240
    },
    "id": "1XCblkOwkzrW",
    "outputId": "5d5bf651-78ca-48a2-f56b-d929d7a941cb"
   },
   "outputs": [
    {
     "name": "stdout",
     "output_type": "stream",
     "text": [
      "There are 195 films that are rated R.\n",
      "There are 210 films that are rated NC-17.\n",
      "There are 194 films that are rated PG.\n",
      "There are 223 films that are rated PG-13.\n",
      "There are 178 films that are rated G.\n"
     ]
    }
   ],
   "source": [
    "# 1. How many movies are released for each rating?\n",
    " \n",
    "sql = '''\n",
    "SELECT COUNT(*), rating \n",
    "FROM film\n",
    "GROUP BY rating \n",
    "'''\n",
    "\n",
    "results = engine.execute(sql)\n",
    "engine.dispose()\n",
    "rows = results.fetchall()\n",
    "\n",
    "for row in rows:\n",
    "  print('There are '+ str(row[0]) + ' films that are rated ' + str(row[1]) + '.')"
   ]
  },
  {
   "cell_type": "code",
   "execution_count": 0,
   "metadata": {
    "colab": {
     "base_uri": "https://localhost:8080/",
     "height": 102
    },
    "colab_type": "code",
    "executionInfo": {
     "elapsed": 1111,
     "status": "ok",
     "timestamp": 1558702668674,
     "user": {
      "displayName": "George Mount",
      "photoUrl": "https://lh6.googleusercontent.com/-7f_ulTpCkk4/AAAAAAAAAAI/AAAAAAAAAIU/dz5RIIvVB2I/s64/photo.jpg",
      "userId": "03471440158510234432"
     },
     "user_tz": 240
    },
    "id": "7eRmQXMElgG9",
    "outputId": "0e4e6fb3-e1c4-4fa5-85ee-90dea8348176"
   },
   "outputs": [
    {
     "name": "stdout",
     "output_type": "stream",
     "text": [
      "The average duration for films rated R is 4.7743589743589744 days.\n",
      "The average duration for films rated NC-17 is 5.1428571428571429 days.\n",
      "The average duration for films rated PG is 5.0824742268041237 days.\n",
      "The average duration for films rated PG-13 is 5.0538116591928251 days.\n",
      "The average duration for films rated G is 4.8370786516853933 days.\n"
     ]
    }
   ],
   "source": [
    "# 2. What is the average rental duration for each rating?\n",
    "\n",
    "\n",
    "sql = '''\n",
    "SELECT rating, AVG(rental_duration) \n",
    "FROM film\n",
    "GROUP BY rating \n",
    "'''\n",
    "\n",
    "results = engine.execute(sql)\n",
    "engine.dispose()\n",
    "rows = results.fetchall()\n",
    "\n",
    "for row in rows:\n",
    "  print('The average duration for films rated '+ str(row[0]) + \n",
    "        ' is ' + str(row[1]) + ' days.')\n",
    "\n"
   ]
  },
  {
   "cell_type": "code",
   "execution_count": 0,
   "metadata": {
    "colab": {
     "base_uri": "https://localhost:8080/",
     "height": 34
    },
    "colab_type": "code",
    "executionInfo": {
     "elapsed": 1012,
     "status": "ok",
     "timestamp": 1558702673563,
     "user": {
      "displayName": "George Mount",
      "photoUrl": "https://lh6.googleusercontent.com/-7f_ulTpCkk4/AAAAAAAAAAI/AAAAAAAAAIU/dz5RIIvVB2I/s64/photo.jpg",
      "userId": "03471440158510234432"
     },
     "user_tz": 240
    },
    "id": "7eVXQG-RuxWG",
    "outputId": "81b0639c-b519-4df5-b68e-4d051a68fb88"
   },
   "outputs": [
    {
     "name": "stdout",
     "output_type": "stream",
     "text": [
      "The average runtime is 115.272\n"
     ]
    }
   ],
   "source": [
    "# 3. What is the average movie runtime (length)?\n",
    "\n",
    "sql = '''\n",
    "SELECT length \n",
    "FROM film\n",
    "'''\n",
    "\n",
    "runtimes = engine.execute(sql)\n",
    "engine.dispose()\n",
    "\n",
    "rows = runtimes.fetchall()\n",
    "runtimes = [x['length'] for x in rows]\n",
    "\n",
    "# A simple implementation simply iterating the array\n",
    "def mean(numbers):\n",
    "  total_sum = 0;  # initialize the sum to zero\n",
    "  for n in numbers:\n",
    "    total_sum += n # add up the numbers in the array\n",
    "  count = len(numbers)   # find the length of the array\n",
    "  avg = total_sum / count  # calculate the mean\n",
    "  return avg  # return the result\n",
    "\n",
    "print('The average runtime is {}'.format(mean(runtimes)))"
   ]
  },
  {
   "cell_type": "code",
   "execution_count": 0,
   "metadata": {
    "colab": {
     "base_uri": "https://localhost:8080/",
     "height": 34
    },
    "colab_type": "code",
    "executionInfo": {
     "elapsed": 1046,
     "status": "ok",
     "timestamp": 1558702677952,
     "user": {
      "displayName": "George Mount",
      "photoUrl": "https://lh6.googleusercontent.com/-7f_ulTpCkk4/AAAAAAAAAAI/AAAAAAAAAIU/dz5RIIvVB2I/s64/photo.jpg",
      "userId": "03471440158510234432"
     },
     "user_tz": 240
    },
    "id": "e7zjZyAPlmME",
    "outputId": "c2215363-ad22-498a-8540-ebdd4c7987a6"
   },
   "outputs": [
    {
     "name": "stdout",
     "output_type": "stream",
     "text": [
      "The median movie length is 114.0\n"
     ]
    }
   ],
   "source": [
    "# 4. What is the median movie length?\n",
    "\n",
    "\n",
    "\n",
    "sql = '''\n",
    "SELECT length \n",
    "FROM film\n",
    "'''\n",
    "\n",
    "runtimes = engine.execute(sql)\n",
    "engine.dispose()\n",
    "\n",
    "rows = runtimes.fetchall()\n",
    "runtimes = [x['length'] for x in rows]\n",
    "\n",
    "\n",
    "import math\n",
    "\n",
    "def median(numbers):\n",
    "  numbers.sort()  # sort the list of numbers\n",
    "  count = len(numbers) # get the length of the array\n",
    "  isEven = count % 2 == 0 # check if this list is of even length\n",
    "  \n",
    "  if (isEven):\n",
    "    # find the two numbers in the middle of the array\n",
    "    mid = math.floor( count / 2 )\n",
    "    a = numbers[mid]\n",
    "    b = numbers[mid + 1]\n",
    "    # find the average of these two numbers\n",
    "    ans = (a + b) / 2\n",
    "  else:\n",
    "    ans = numbers[math.floor( count / 2 )]\n",
    " \n",
    "  return ans\n",
    "\n",
    "print('The median movie length is {}'.format(median(runtimes)))"
   ]
  },
  {
   "cell_type": "code",
   "execution_count": 0,
   "metadata": {
    "colab": {
     "base_uri": "https://localhost:8080/",
     "height": 34
    },
    "colab_type": "code",
    "executionInfo": {
     "elapsed": 451,
     "status": "ok",
     "timestamp": 1558702680650,
     "user": {
      "displayName": "George Mount",
      "photoUrl": "https://lh6.googleusercontent.com/-7f_ulTpCkk4/AAAAAAAAAAI/AAAAAAAAAIU/dz5RIIvVB2I/s64/photo.jpg",
      "userId": "03471440158510234432"
     },
     "user_tz": 240
    },
    "id": "dbbcs1OGlpS7",
    "outputId": "4b810a60-cb6e-45ef-93f4-a270c97f8280"
   },
   "outputs": [
    {
     "name": "stdout",
     "output_type": "stream",
     "text": [
      "The standard deviation of the movie lengths is 40.42633181855988\n"
     ]
    }
   ],
   "source": [
    "# 5. Calculate the standard deviation of the movie lengths.\n",
    "\n",
    "\n",
    "def standard_deviation(numbers):\n",
    "  X_bar = mean(numbers)\n",
    "  N = len(numbers)\n",
    "  total_sum = 0\n",
    "  for X in numbers:\n",
    "    diff = X - X_bar\n",
    "    squared = math.pow(diff, 2)\n",
    "    total_sum += squared\n",
    "  sigma = math.sqrt(total_sum / (N - 1))  \n",
    "  return sigma\n",
    "\n",
    "print('The standard deviation of the movie lengths is {}'.format(standard_deviation(runtimes)))"
   ]
  },
  {
   "cell_type": "code",
   "execution_count": 0,
   "metadata": {
    "colab": {
     "base_uri": "https://localhost:8080/",
     "height": 120
    },
    "colab_type": "code",
    "executionInfo": {
     "elapsed": 1755,
     "status": "ok",
     "timestamp": 1558702683644,
     "user": {
      "displayName": "George Mount",
      "photoUrl": "https://lh6.googleusercontent.com/-7f_ulTpCkk4/AAAAAAAAAAI/AAAAAAAAAIU/dz5RIIvVB2I/s64/photo.jpg",
      "userId": "03471440158510234432"
     },
     "user_tz": 240
    },
    "id": "jNo7bjI_lsXJ",
    "outputId": "2898bfbc-274a-425f-d65d-c7233a6a4f69"
   },
   "outputs": [
    {
     "name": "stdout",
     "output_type": "stream",
     "text": [
      "(4, 'Mandarin            ', 0)\n",
      "(6, 'German              ', 0)\n",
      "(2, 'Italian             ', 0)\n",
      "(3, 'Japanese            ', 0)\n",
      "(5, 'French              ', 0)\n",
      "(1, 'English             ', 1000)\n"
     ]
    }
   ],
   "source": [
    "# We are no longer using this question/\n",
    "\n",
    "# 6. There is another table named language with the fields language_id and name. \n",
    "# The film table has a field named language_id which is a foreign key to\n",
    "# the language_id column of the language table.\n",
    "# Run a query whose results group movie data by language.\n",
    "\n",
    "# I am assuming we want the counts and the language_id not \n",
    "\n",
    "# Database credentials - dvdrentals\n",
    "postgres_user = 'dsbc_student'\n",
    "postgres_pw = '7*.8G9QH21'\n",
    "postgres_host = '142.93.121.174'\n",
    "postgres_port = '5432'\n",
    "postgres_db = 'dvdrentals'\n",
    "\n",
    "# use the credentials to start a connection\n",
    "engine = create_engine('postgresql://{}:{}@{}:{}/{}'.format(\n",
    "    postgres_user, postgres_pw, postgres_host, postgres_port, postgres_db))\n",
    "\n",
    "\n",
    "\n",
    "sql = '''\n",
    "SELECT language.language_id, name, COUNT(film_id) AS count_films\n",
    "FROM language LEFT OUTER JOIN film\n",
    "ON language.language_id = film.language_id\n",
    "GROUP BY language.language_id, name\n",
    "'''\n",
    "\n",
    "results = engine.execute(sql)\n",
    "engine.dispose()\n",
    "rows = results.fetchall()\n",
    "\n",
    "# print some results just to see what we got\n",
    "for row in rows:\n",
    "  print(row)\n",
    "\n"
   ]
  }
 ],
 "metadata": {
  "colab": {
   "collapsed_sections": [],
   "name": "python_02.04_SQL",
   "provenance": [
    {
     "file_id": "1RFzoX4UcsU1f_9NcZmhhjgCk_JLZdApp",
     "timestamp": 1568316126572
    }
   ]
  },
  "kernelspec": {
   "display_name": "Python 3",
   "language": "python",
   "name": "python3"
  },
  "language_info": {
   "codemirror_mode": {
    "name": "ipython",
    "version": 3
   },
   "file_extension": ".py",
   "mimetype": "text/x-python",
   "name": "python",
   "nbconvert_exporter": "python",
   "pygments_lexer": "ipython3",
   "version": "3.8.2"
  }
 },
 "nbformat": 4,
 "nbformat_minor": 1
}
