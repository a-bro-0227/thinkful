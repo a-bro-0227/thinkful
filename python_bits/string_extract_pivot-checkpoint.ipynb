{
 "cells": [
  {
   "cell_type": "code",
   "execution_count": 22,
   "metadata": {},
   "outputs": [
    {
     "data": {
      "text/html": [
       "<div>\n",
       "<style scoped>\n",
       "    .dataframe tbody tr th:only-of-type {\n",
       "        vertical-align: middle;\n",
       "    }\n",
       "\n",
       "    .dataframe tbody tr th {\n",
       "        vertical-align: top;\n",
       "    }\n",
       "\n",
       "    .dataframe thead th {\n",
       "        text-align: right;\n",
       "    }\n",
       "</style>\n",
       "<table border=\"1\" class=\"dataframe\">\n",
       "  <thead>\n",
       "    <tr style=\"text-align: right;\">\n",
       "      <th></th>\n",
       "      <th>hosp_id</th>\n",
       "      <th>question</th>\n",
       "      <th>ans</th>\n",
       "    </tr>\n",
       "  </thead>\n",
       "  <tbody>\n",
       "    <tr>\n",
       "      <td>0</td>\n",
       "      <td>ABC_Hosp</td>\n",
       "      <td>Nurse always communicated</td>\n",
       "      <td>42</td>\n",
       "    </tr>\n",
       "    <tr>\n",
       "      <td>1</td>\n",
       "      <td>ABC_Hosp</td>\n",
       "      <td>Nurse sometimes communicated</td>\n",
       "      <td>75</td>\n",
       "    </tr>\n",
       "    <tr>\n",
       "      <td>2</td>\n",
       "      <td>ABC_Hosp</td>\n",
       "      <td>Nurse usually communicated</td>\n",
       "      <td>67</td>\n",
       "    </tr>\n",
       "  </tbody>\n",
       "</table>\n",
       "</div>"
      ],
      "text/plain": [
       "    hosp_id                      question  ans\n",
       "0  ABC_Hosp     Nurse always communicated   42\n",
       "1  ABC_Hosp  Nurse sometimes communicated   75\n",
       "2  ABC_Hosp    Nurse usually communicated   67"
      ]
     },
     "execution_count": 22,
     "metadata": {},
     "output_type": "execute_result"
    }
   ],
   "source": [
    "import pandas\n",
    "import numpy\n",
    "\n",
    "# intialize data of lists. \n",
    "data = {'hosp_id': ['ABC_Hosp'] * 3,\n",
    "        'question': ['Nurse always communicated', 'Nurse sometimes communicated', 'Nurse usually communicated'],\n",
    "        'ans': [42, 75, 67]}\n",
    "\n",
    "\n",
    "df = pandas.DataFrame(data) # create dataframe \n",
    "\n",
    "df # print the output."
   ]
  },
  {
   "cell_type": "code",
   "execution_count": 23,
   "metadata": {},
   "outputs": [
    {
     "data": {
      "text/html": [
       "<div>\n",
       "<style scoped>\n",
       "    .dataframe tbody tr th:only-of-type {\n",
       "        vertical-align: middle;\n",
       "    }\n",
       "\n",
       "    .dataframe tbody tr th {\n",
       "        vertical-align: top;\n",
       "    }\n",
       "\n",
       "    .dataframe thead th {\n",
       "        text-align: right;\n",
       "    }\n",
       "</style>\n",
       "<table border=\"1\" class=\"dataframe\">\n",
       "  <thead>\n",
       "    <tr style=\"text-align: right;\">\n",
       "      <th></th>\n",
       "      <th>hosp_id</th>\n",
       "      <th>question</th>\n",
       "      <th>ans</th>\n",
       "      <th>ans_type</th>\n",
       "    </tr>\n",
       "  </thead>\n",
       "  <tbody>\n",
       "    <tr>\n",
       "      <td>0</td>\n",
       "      <td>ABC_Hosp</td>\n",
       "      <td>Nurse always communicated</td>\n",
       "      <td>42</td>\n",
       "      <td>always</td>\n",
       "    </tr>\n",
       "    <tr>\n",
       "      <td>1</td>\n",
       "      <td>ABC_Hosp</td>\n",
       "      <td>Nurse sometimes communicated</td>\n",
       "      <td>75</td>\n",
       "      <td>sometimes</td>\n",
       "    </tr>\n",
       "    <tr>\n",
       "      <td>2</td>\n",
       "      <td>ABC_Hosp</td>\n",
       "      <td>Nurse usually communicated</td>\n",
       "      <td>67</td>\n",
       "      <td>usually</td>\n",
       "    </tr>\n",
       "  </tbody>\n",
       "</table>\n",
       "</div>"
      ],
      "text/plain": [
       "    hosp_id                      question  ans   ans_type\n",
       "0  ABC_Hosp     Nurse always communicated   42     always\n",
       "1  ABC_Hosp  Nurse sometimes communicated   75  sometimes\n",
       "2  ABC_Hosp    Nurse usually communicated   67    usually"
      ]
     },
     "execution_count": 23,
     "metadata": {},
     "output_type": "execute_result"
    }
   ],
   "source": [
    "# sting extraction:\n",
    "\n",
    "# https://www.geeksforgeeks.org/python-extract-words-from-given-string/\n",
    "# https://jakevdp.github.io/WhirlwindTourOfPython/14-strings-and-regular-expressions.html\n",
    "# https://stackoverflow.com/questions/55028465/python-searching-a-string-within-a-dataframe-from-a-list\n",
    "\n",
    "search_list = ['always','sometimes','usually'] # list of words\n",
    "\n",
    "df['ans_type'] = df.question.str.extract('(?i)({0})'.format('|'.join(search_list))) # extract answer\n",
    "\n",
    "df"
   ]
  },
  {
   "cell_type": "code",
   "execution_count": 24,
   "metadata": {},
   "outputs": [
    {
     "data": {
      "text/html": [
       "<div>\n",
       "<style scoped>\n",
       "    .dataframe tbody tr th:only-of-type {\n",
       "        vertical-align: middle;\n",
       "    }\n",
       "\n",
       "    .dataframe tbody tr th {\n",
       "        vertical-align: top;\n",
       "    }\n",
       "\n",
       "    .dataframe thead th {\n",
       "        text-align: right;\n",
       "    }\n",
       "</style>\n",
       "<table border=\"1\" class=\"dataframe\">\n",
       "  <thead>\n",
       "    <tr style=\"text-align: right;\">\n",
       "      <th></th>\n",
       "      <th>hosp_id</th>\n",
       "      <th>question</th>\n",
       "      <th>ans</th>\n",
       "      <th>ans_type</th>\n",
       "    </tr>\n",
       "  </thead>\n",
       "  <tbody>\n",
       "    <tr>\n",
       "      <td>0</td>\n",
       "      <td>ABC_Hosp</td>\n",
       "      <td>Nurse communicated</td>\n",
       "      <td>42</td>\n",
       "      <td>always</td>\n",
       "    </tr>\n",
       "    <tr>\n",
       "      <td>1</td>\n",
       "      <td>ABC_Hosp</td>\n",
       "      <td>Nurse communicated</td>\n",
       "      <td>75</td>\n",
       "      <td>sometimes</td>\n",
       "    </tr>\n",
       "    <tr>\n",
       "      <td>2</td>\n",
       "      <td>ABC_Hosp</td>\n",
       "      <td>Nurse communicated</td>\n",
       "      <td>67</td>\n",
       "      <td>usually</td>\n",
       "    </tr>\n",
       "  </tbody>\n",
       "</table>\n",
       "</div>"
      ],
      "text/plain": [
       "    hosp_id            question  ans   ans_type\n",
       "0  ABC_Hosp  Nurse communicated   42     always\n",
       "1  ABC_Hosp  Nurse communicated   75  sometimes\n",
       "2  ABC_Hosp  Nurse communicated   67    usually"
      ]
     },
     "execution_count": 24,
     "metadata": {},
     "output_type": "execute_result"
    }
   ],
   "source": [
    "# string replacement:\n",
    "\n",
    "# https://stackoverflow.com/questions/45334045/use-python-to-replace-multiple-words-from-a-dataframe-string-column\n",
    "\n",
    "# note: you need to replace the word and the space!!! for example, always\" \"|nextword .\n",
    "# just replacing 'always|sometimes' will leave you with a double space\n",
    "df['question'] = df['question'].str.replace('always |sometimes |usually ', \"\")\n",
    "\n",
    "df"
   ]
  },
  {
   "cell_type": "code",
   "execution_count": 26,
   "metadata": {},
   "outputs": [
    {
     "data": {
      "text/html": [
       "<div>\n",
       "<style scoped>\n",
       "    .dataframe tbody tr th:only-of-type {\n",
       "        vertical-align: middle;\n",
       "    }\n",
       "\n",
       "    .dataframe tbody tr th {\n",
       "        vertical-align: top;\n",
       "    }\n",
       "\n",
       "    .dataframe thead th {\n",
       "        text-align: right;\n",
       "    }\n",
       "</style>\n",
       "<table border=\"1\" class=\"dataframe\">\n",
       "  <thead>\n",
       "    <tr style=\"text-align: right;\">\n",
       "      <th></th>\n",
       "      <th>ans_type</th>\n",
       "      <th>always</th>\n",
       "      <th>sometimes</th>\n",
       "      <th>usually</th>\n",
       "    </tr>\n",
       "    <tr>\n",
       "      <th>hosp_id</th>\n",
       "      <th>question</th>\n",
       "      <th></th>\n",
       "      <th></th>\n",
       "      <th></th>\n",
       "    </tr>\n",
       "  </thead>\n",
       "  <tbody>\n",
       "    <tr>\n",
       "      <td>ABC_Hosp</td>\n",
       "      <td>Nurse communicated</td>\n",
       "      <td>42</td>\n",
       "      <td>75</td>\n",
       "      <td>67</td>\n",
       "    </tr>\n",
       "  </tbody>\n",
       "</table>\n",
       "</div>"
      ],
      "text/plain": [
       "ans_type                     always  sometimes  usually\n",
       "hosp_id  question                                      \n",
       "ABC_Hosp Nurse communicated      42         75       67"
      ]
     },
     "execution_count": 26,
     "metadata": {},
     "output_type": "execute_result"
    }
   ],
   "source": [
    "df.pivot_table(index = ['hosp_id', 'question'], columns = 'ans_type', values = 'ans', aggfunc = numpy.sum)"
   ]
  }
 ],
 "metadata": {
  "kernelspec": {
   "display_name": "Python 3",
   "language": "python",
   "name": "python3"
  },
  "language_info": {
   "codemirror_mode": {
    "name": "ipython",
    "version": 3
   },
   "file_extension": ".py",
   "mimetype": "text/x-python",
   "name": "python",
   "nbconvert_exporter": "python",
   "pygments_lexer": "ipython3",
   "version": "3.7.4"
  }
 },
 "nbformat": 4,
 "nbformat_minor": 2
}
