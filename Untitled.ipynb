{
 "cells": [
  {
   "cell_type": "code",
   "execution_count": null,
   "metadata": {},
   "outputs": [],
   "source": [
    " ## make id not visible\n",
    "\n",
    " postgres_user = 'dsbc_student'\n",
    " postgres_pw = '7*.8G9QH21'\n",
    " postgres_host = '142.93.121.174'\n",
    " postgres_port = '5432'\n",
    " postgres_db = 'heartdisease'\n",
    "\n",
    "\n",
    " # Define the features and the outcome\n",
    " X = heartdisease_df.iloc[:, :13]\n",
    " y = heartdisease_df.iloc[:, 13]\n",
    "\n",
    " # Replace missing values (marked by `?`) with a `0`\n",
    " X = X.replace(to_replace='?', value=0)\n",
    "\n",
    " # Binarize `y` so that `1` means heart disease diagnosis and `0` means no diagnosis\n",
    " y = np.where(y > 0, 0, 1)"
   ]
  }
 ],
 "metadata": {
  "kernelspec": {
   "display_name": "Python 3",
   "language": "python",
   "name": "python3"
  },
  "language_info": {
   "codemirror_mode": {
    "name": "ipython",
    "version": 3
   },
   "file_extension": ".py",
   "mimetype": "text/x-python",
   "name": "python",
   "nbconvert_exporter": "python",
   "pygments_lexer": "ipython3",
   "version": "3.8.2"
  }
 },
 "nbformat": 4,
 "nbformat_minor": 4
}
